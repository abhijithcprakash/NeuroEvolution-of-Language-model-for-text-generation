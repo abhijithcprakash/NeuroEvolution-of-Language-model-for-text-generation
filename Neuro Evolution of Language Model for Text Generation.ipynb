{
  "cells": [
    {
      "cell_type": "markdown",
      "metadata": {
        "id": "efNniwcufQPW"
      },
      "source": [
        "# Import Modules"
      ]
    },
    {
      "cell_type": "code",
      "execution_count": 1,
      "metadata": {
        "id": "0D1hC8Kfhh8E"
      },
      "outputs": [],
      "source": [
        "#@title Install Packages\n",
        "!pip install livelossplot --quiet\n",
        "!pip install deap --quiet"
      ]
    },
    {
      "cell_type": "code",
      "execution_count": 2,
      "metadata": {
        "id": "jjxmrefefUba"
      },
      "outputs": [],
      "source": [
        "from tensorflow.keras.models import Sequential\n",
        "from tensorflow.keras.layers import LSTM, Dropout, Dense, Embedding\n",
        "from tensorflow.keras import datasets, layers, models\n",
        "from sklearn.model_selection import train_test_split\n",
        "from livelossplot import PlotLossesKeras, PlotLosses\n",
        "from tensorflow.keras.utils import plot_model\n",
        "from IPython.display import clear_output\n",
        "from IPython.display import Image\n",
        "import matplotlib.pyplot as plt\n",
        "import tensorflow as tf\n",
        "import numpy as np\n",
        "import random\n",
        "import math\n",
        "import time\n",
        "import os\n",
        "\n",
        "#DEAP\n",
        "from deap import algorithms\n",
        "from deap import benchmarks\n",
        "from deap import creator\n",
        "from deap import tools\n",
        "from deap import base"
      ]
    },
    {
      "cell_type": "markdown",
      "metadata": {
        "id": "r7nMPVa3eEe4"
      },
      "source": [
        "# Loading the Data and Preparing it."
      ]
    },
    {
      "cell_type": "code",
      "execution_count": 3,
      "metadata": {
        "colab": {
          "base_uri": "https://localhost:8080/"
        },
        "id": "jKXu7UJbaZAm",
        "outputId": "7b9ca02a-9d94-40a9-932e-3f9b3997f937"
      },
      "outputs": [
        {
          "output_type": "stream",
          "name": "stdout",
          "text": [
            "Length of text: 1115394 characters\n",
            "65 unique characters\n"
          ]
        }
      ],
      "source": [
        "# Download\n",
        "path_to_file = tf.keras.utils.get_file('shakespeare.txt', 'https://storage.googleapis.com/download.tensorflow.org/data/shakespeare.txt')\n",
        "\n",
        "# Store it\n",
        "text = open(path_to_file, 'rb').read().decode(encoding='utf-8')\n",
        "\n",
        "# Length of text\n",
        "print(f'Length of text: {len(text)} characters')\n",
        "vocab = sorted(set(text))\n",
        "\n",
        "# Vocab size\n",
        "print(f'{len(vocab)} unique characters')\n",
        "\n",
        "ids_from_chars = tf.keras.layers.StringLookup(\n",
        "    vocabulary=list(vocab), mask_token=None)\n",
        "\n",
        "chars_from_ids = tf.keras.layers.StringLookup(\n",
        "    vocabulary=ids_from_chars.get_vocabulary(), invert=True, mask_token=None)\n",
        "\n",
        "# To convert id into corresponding text\n",
        "def text_from_ids(ids):\n",
        "  return tf.strings.reduce_join(chars_from_ids(ids), axis=-1)\n",
        "\n",
        "# Converting entire text into IDs\n",
        "all_ids = ids_from_chars(tf.strings.unicode_split(text, 'UTF-8'))"
      ]
    },
    {
      "cell_type": "code",
      "source": [
        "# Iterating through each character in the vocabulary\n",
        "for char in vocab:\n",
        "    # Converting the character to its ID\n",
        "    char_id = ids_from_chars(tf.strings.unicode_split(char, 'UTF-8'))\n",
        "\n",
        "    # Printing the character and its corresponding ID\n",
        "    print(f\"Character: '{char}' --> ID: {char_id.numpy()[0]}\")"
      ],
      "metadata": {
        "colab": {
          "base_uri": "https://localhost:8080/"
        },
        "id": "DkElyEEIbp7F",
        "outputId": "45a5a6f7-d9ba-4a51-9352-34d08b0b5fe1"
      },
      "execution_count": 4,
      "outputs": [
        {
          "output_type": "stream",
          "name": "stdout",
          "text": [
            "Character: '\n",
            "' --> ID: 1\n",
            "Character: ' ' --> ID: 2\n",
            "Character: '!' --> ID: 3\n",
            "Character: '$' --> ID: 4\n",
            "Character: '&' --> ID: 5\n",
            "Character: ''' --> ID: 6\n",
            "Character: ',' --> ID: 7\n",
            "Character: '-' --> ID: 8\n",
            "Character: '.' --> ID: 9\n",
            "Character: '3' --> ID: 10\n",
            "Character: ':' --> ID: 11\n",
            "Character: ';' --> ID: 12\n",
            "Character: '?' --> ID: 13\n",
            "Character: 'A' --> ID: 14\n",
            "Character: 'B' --> ID: 15\n",
            "Character: 'C' --> ID: 16\n",
            "Character: 'D' --> ID: 17\n",
            "Character: 'E' --> ID: 18\n",
            "Character: 'F' --> ID: 19\n",
            "Character: 'G' --> ID: 20\n",
            "Character: 'H' --> ID: 21\n",
            "Character: 'I' --> ID: 22\n",
            "Character: 'J' --> ID: 23\n",
            "Character: 'K' --> ID: 24\n",
            "Character: 'L' --> ID: 25\n",
            "Character: 'M' --> ID: 26\n",
            "Character: 'N' --> ID: 27\n",
            "Character: 'O' --> ID: 28\n",
            "Character: 'P' --> ID: 29\n",
            "Character: 'Q' --> ID: 30\n",
            "Character: 'R' --> ID: 31\n",
            "Character: 'S' --> ID: 32\n",
            "Character: 'T' --> ID: 33\n",
            "Character: 'U' --> ID: 34\n",
            "Character: 'V' --> ID: 35\n",
            "Character: 'W' --> ID: 36\n",
            "Character: 'X' --> ID: 37\n",
            "Character: 'Y' --> ID: 38\n",
            "Character: 'Z' --> ID: 39\n",
            "Character: 'a' --> ID: 40\n",
            "Character: 'b' --> ID: 41\n",
            "Character: 'c' --> ID: 42\n",
            "Character: 'd' --> ID: 43\n",
            "Character: 'e' --> ID: 44\n",
            "Character: 'f' --> ID: 45\n",
            "Character: 'g' --> ID: 46\n",
            "Character: 'h' --> ID: 47\n",
            "Character: 'i' --> ID: 48\n",
            "Character: 'j' --> ID: 49\n",
            "Character: 'k' --> ID: 50\n",
            "Character: 'l' --> ID: 51\n",
            "Character: 'm' --> ID: 52\n",
            "Character: 'n' --> ID: 53\n",
            "Character: 'o' --> ID: 54\n",
            "Character: 'p' --> ID: 55\n",
            "Character: 'q' --> ID: 56\n",
            "Character: 'r' --> ID: 57\n",
            "Character: 's' --> ID: 58\n",
            "Character: 't' --> ID: 59\n",
            "Character: 'u' --> ID: 60\n",
            "Character: 'v' --> ID: 61\n",
            "Character: 'w' --> ID: 62\n",
            "Character: 'x' --> ID: 63\n",
            "Character: 'y' --> ID: 64\n",
            "Character: 'z' --> ID: 65\n"
          ]
        }
      ]
    },
    {
      "cell_type": "code",
      "execution_count": 5,
      "metadata": {
        "colab": {
          "base_uri": "https://localhost:8080/"
        },
        "id": "PshX9fI8fMoB",
        "outputId": "9b7fc547-adf9-49b8-9ee9-e1344777d977"
      },
      "outputs": [
        {
          "output_type": "stream",
          "name": "stdout",
          "text": [
            "x_train shape: (9938, 100)\n",
            "y_train shape: (9938, 100)\n",
            "x_test shape: (1105, 100)\n",
            "y_test shape: (1105, 100)\n"
          ]
        }
      ],
      "source": [
        "#@title Making input and target\n",
        "\n",
        "SEQ_LENGTH = 100\n",
        "\n",
        "# Convert to one full tensor\n",
        "ids_dataset = tf.data.Dataset.from_tensor_slices(all_ids)\n",
        "\n",
        "# Create sequences of 101 characters\n",
        "sequences = ids_dataset.batch(SEQ_LENGTH + 1, drop_remainder=True)\n",
        "\n",
        "# Split input and target texts\n",
        "def split_input_target(sequence):\n",
        "    input_text = sequence[:-1]\n",
        "    target_text = sequence[1:]\n",
        "    return input_text, target_text\n",
        "\n",
        "# Map the split function to the dataset\n",
        "sequences = sequences.map(split_input_target)\n",
        "\n",
        "# Convert sequences to numpy arrays for train_test_split\n",
        "input_sequences = []\n",
        "target_sequences = []\n",
        "for input_text, target_text in sequences:\n",
        "    input_sequences.append(input_text.numpy())\n",
        "    target_sequences.append(target_text.numpy())\n",
        "\n",
        "input_sequences = np.array(input_sequences)\n",
        "target_sequences = np.array(target_sequences)\n",
        "\n",
        "# Split the data using train_test_split\n",
        "x_train, x_test, y_train, y_test = train_test_split(input_sequences, target_sequences, test_size=0.1)\n",
        "\n",
        "print(\"x_train shape:\", x_train.shape)\n",
        "print(\"y_train shape:\", y_train.shape)\n",
        "print(\"x_test shape:\", x_test.shape)\n",
        "print(\"y_test shape:\", y_test.shape)"
      ]
    },
    {
      "cell_type": "code",
      "source": [
        "split_input_target(list(\"Tensorflow\"))"
      ],
      "metadata": {
        "colab": {
          "base_uri": "https://localhost:8080/"
        },
        "id": "6hGM4gqu7mvc",
        "outputId": "74665d31-02a6-4bf6-846b-b1991dbcd5bf"
      },
      "execution_count": 6,
      "outputs": [
        {
          "output_type": "execute_result",
          "data": {
            "text/plain": [
              "(['T', 'e', 'n', 's', 'o', 'r', 'f', 'l', 'o'],\n",
              " ['e', 'n', 's', 'o', 'r', 'f', 'l', 'o', 'w'])"
            ]
          },
          "metadata": {},
          "execution_count": 6
        }
      ]
    },
    {
      "cell_type": "code",
      "execution_count": 7,
      "metadata": {
        "id": "O3gcUck8Q-lQ"
      },
      "outputs": [],
      "source": [
        "train_dataset = tf.data.Dataset.from_tensor_slices((x_train, y_train)).batch(64, drop_remainder=True)\n",
        "test_dataset = tf.data.Dataset.from_tensor_slices((x_test, y_test)).batch(64, drop_remainder=True)"
      ]
    },
    {
      "cell_type": "code",
      "source": [
        "vocab_size = len(ids_from_chars.get_vocabulary())\n",
        "print(vocab_size)"
      ],
      "metadata": {
        "colab": {
          "base_uri": "https://localhost:8080/"
        },
        "id": "i_LKgESb26Og",
        "outputId": "e04e90c6-0197-4026-f43c-f94880c126e9"
      },
      "execution_count": 8,
      "outputs": [
        {
          "output_type": "stream",
          "name": "stdout",
          "text": [
            "66\n"
          ]
        }
      ]
    },
    {
      "cell_type": "markdown",
      "metadata": {
        "id": "9kHe3kB8kUug"
      },
      "source": [
        "# Generating Individuals"
      ]
    },
    {
      "cell_type": "code",
      "execution_count": 9,
      "metadata": {
        "colab": {
          "base_uri": "https://localhost:8080/"
        },
        "id": "DbTpQ4o_RzGI",
        "outputId": "002a3bb1-738e-4fd6-ae59-e57f177a97b1"
      },
      "outputs": [
        {
          "output_type": "stream",
          "name": "stdout",
          "text": [
            "[-1, 860, -2, 0.22, -2, 0.25, -2, 0.18]\n"
          ]
        }
      ],
      "source": [
        "# Constants representing layer types\n",
        "LSTM_LAYER = -1\n",
        "DROPOUT_LAYER = -2\n",
        "DENSE_LAYER = -3\n",
        "\n",
        "def generate_lstm_units():\n",
        "    # Define min and max units for LSTM layers\n",
        "    min_units = 700\n",
        "    max_units = 1000\n",
        "    return random.randint(min_units, max_units)\n",
        "\n",
        "def generate_dropout_rate():\n",
        "    # Define min and max dropout rates (as a fraction)\n",
        "    min_dropout = 0.1\n",
        "    max_dropout = 0.3\n",
        "    return round(random.uniform(min_dropout, max_dropout), 2)\n",
        "\n",
        "def generate_dense_neurons():\n",
        "    # Define min and max neurons for Dense layers\n",
        "    min_neurons = 50\n",
        "    max_neurons = 66\n",
        "    return random.randint(min_neurons, max_neurons)\n",
        "\n",
        "def create_offspring():\n",
        "    ind = []\n",
        "\n",
        "    # First layer is always LSTM\n",
        "    ind.extend([LSTM_LAYER, generate_lstm_units()])\n",
        "\n",
        "    # Define max number of layers\n",
        "    max_layers = 5\n",
        "\n",
        "    for i in range(max_layers - 2):  # Subtract 2 for the first LSTM and last Dense layer\n",
        "        layer_type = random.choice([LSTM_LAYER,DROPOUT_LAYER])\n",
        "        if layer_type == LSTM_LAYER:\n",
        "            ind.extend([LSTM_LAYER, generate_lstm_units()])\n",
        "        else:\n",
        "            ind.extend([DROPOUT_LAYER, generate_dropout_rate()])\n",
        "\n",
        "    # End with a Dense layer\n",
        "    # ind.extend([DENSE_LAYER, generate_dense_neurons()])\n",
        "\n",
        "    return ind\n",
        "\n",
        "# Generate an individual LSTM architecture\n",
        "individual = create_offspring()\n",
        "print(individual)"
      ]
    },
    {
      "cell_type": "markdown",
      "metadata": {
        "id": "RnbPiQFXlgga"
      },
      "source": [
        "# Making models from individuals"
      ]
    },
    {
      "cell_type": "code",
      "execution_count": 10,
      "metadata": {
        "colab": {
          "base_uri": "https://localhost:8080/"
        },
        "id": "g9K0kfUGa_kq",
        "outputId": "dd68d8b4-07a9-4798-815f-ea6b75544c3e"
      },
      "outputs": [
        {
          "output_type": "stream",
          "name": "stdout",
          "text": [
            "Model: \"sequential\"\n",
            "_________________________________________________________________\n",
            " Layer (type)                Output Shape              Param #   \n",
            "=================================================================\n",
            " embedding (Embedding)       (None, None, 256)         16896     \n",
            "                                                                 \n",
            " lstm (LSTM)                 (None, None, 860)         3842480   \n",
            "                                                                 \n",
            " dropout (Dropout)           (None, None, 860)         0         \n",
            "                                                                 \n",
            " dropout_1 (Dropout)         (None, None, 860)         0         \n",
            "                                                                 \n",
            " dropout_2 (Dropout)         (None, None, 860)         0         \n",
            "                                                                 \n",
            " dense (Dense)               (None, None, 66)          56826     \n",
            "                                                                 \n",
            "=================================================================\n",
            "Total params: 3916202 (14.94 MB)\n",
            "Trainable params: 3916202 (14.94 MB)\n",
            "Non-trainable params: 0 (0.00 Byte)\n",
            "_________________________________________________________________\n"
          ]
        }
      ],
      "source": [
        "def build_model(individual):\n",
        "    model = Sequential()\n",
        "    vocab_size = 66          # Assuming this is your vocabulary size\n",
        "    embedding_dim = 256\n",
        "\n",
        "    # Constants for layer types\n",
        "    LSTM_LAYER = -1\n",
        "    DROPOUT_LAYER = -2\n",
        "    DENSE_LAYER = -3\n",
        "\n",
        "    # Add the Embedding layer\n",
        "    model.add(Embedding(vocab_size, embedding_dim))\n",
        "\n",
        "    # Iterate through the individual list two elements at a time\n",
        "    for i in range(0, len(individual), 2):\n",
        "        layer_type = individual[i]\n",
        "        param = individual[i + 1]\n",
        "\n",
        "        if layer_type == LSTM_LAYER:\n",
        "            # Add LSTM layer\n",
        "            model.add(LSTM(param, return_sequences=True, stateful= False))\n",
        "        elif layer_type == DROPOUT_LAYER:\n",
        "            # Add Dropout layer\n",
        "            model.add(Dropout(param))\n",
        "        elif layer_type == DENSE_LAYER:\n",
        "            # Add Dense layer\n",
        "            model.add(Dense(param, activation='relu'))\n",
        "\n",
        "    # Change the return_sequences flag of the last LSTM layer\n",
        "    model.layers[-2].return_sequences = True\n",
        "\n",
        "    # Add the final output layer\n",
        "    model.add(Dense(vocab_size))\n",
        "\n",
        "    return model\n",
        "\n",
        "model = build_model(individual)\n",
        "model.summary()"
      ]
    },
    {
      "cell_type": "markdown",
      "metadata": {
        "id": "Ey5XVjdHkms6"
      },
      "source": [
        "# CROSSOVER"
      ]
    },
    {
      "cell_type": "code",
      "execution_count": 11,
      "metadata": {
        "colab": {
          "base_uri": "https://localhost:8080/"
        },
        "id": "l6k-Wk3tjHOi",
        "outputId": "5ed298ee-c11d-4470-93a5-a79024ad3d3d"
      },
      "outputs": [
        {
          "output_type": "stream",
          "name": "stdout",
          "text": [
            "[-1, 741, -2, 0.17, -1, 926, -1, 737]\n",
            "[-1, 925, -1, 952, -1, 875, -2, 0.16]\n"
          ]
        }
      ],
      "source": [
        "def get_layers(ind, layer_type):\n",
        "    return [i for i in range(0, len(ind), 2) if ind[i] == layer_type]\n",
        "\n",
        "def swap(ind1, iv1, ind2, iv2, ll):\n",
        "    # Swap pairs of elements. Each pair represents a layer and its parameter.\n",
        "    # ll (layer length) is expected to be 2 for the new individual format.\n",
        "\n",
        "    # Swap the layer type and its parameter from ind1 to ind2 and vice versa\n",
        "    ch1 = ind1[iv1:iv1+ll]\n",
        "    ch2 = ind2[iv2:iv2+ll]\n",
        "    ind1[iv1:iv1+ll] = ch2\n",
        "    ind2[iv2:iv2+ll] = ch1\n",
        "\n",
        "    return ind1, ind2\n",
        "\n",
        "def swap_layers(ind1, ind2, layer_type):\n",
        "    c1, c2 = get_layers(ind1, layer_type), get_layers(ind2, layer_type)\n",
        "    min_c = min(len(c1), len(c2))\n",
        "    for _ in range(min_c):\n",
        "        if random.random() < 1:\n",
        "            i1 = random.randint(0, len(c1)-1)\n",
        "            i2 = random.randint(0, len(c2)-1)\n",
        "            iv1, iv2 = c1.pop(i1), c2.pop(i2)\n",
        "            ind1, ind2 = swap(ind1, iv1, ind2, iv2, 2)  # Swapping pairs of elements\n",
        "    return ind1, ind2\n",
        "def crossover(ind1, ind2):\n",
        "    LSTM_LAYER = -1\n",
        "    DROPOUT_LAYER = -2\n",
        "    DENSE_LAYER = -3\n",
        "\n",
        "    ind1, ind2 = swap_layers(ind1, ind2, LSTM_LAYER)\n",
        "    ind1, ind2 = swap_layers(ind1, ind2, DROPOUT_LAYER)\n",
        "    ind1, ind2 = swap_layers(ind1, ind2, DENSE_LAYER)\n",
        "    return ind1, ind2\n",
        "\n",
        "ind1 = [-1, 925, -2, 0.16, -1, 952, -1, 875]\n",
        "ind2 = [-1, 741, -1, 926, -1, 737, -2, 0.17]\n",
        "\n",
        "offspring1, offspring2 = crossover(ind1, ind2)\n",
        "print(offspring1)\n",
        "print(offspring2)"
      ]
    },
    {
      "cell_type": "markdown",
      "metadata": {
        "id": "d_Lj-sWkt0aE"
      },
      "source": [
        "# MUTATION"
      ]
    },
    {
      "cell_type": "code",
      "execution_count": 12,
      "metadata": {
        "colab": {
          "base_uri": "https://localhost:8080/"
        },
        "id": "GLaIn-nAkPCs",
        "outputId": "7e7bfe75-f9e8-48e3-e67f-6da65520a157"
      },
      "outputs": [
        {
          "output_type": "stream",
          "name": "stdout",
          "text": [
            "Before Mutation: [-1, 737, -2, 0.17, -1, 741, -1, 926]\n",
            "After Mutation: [-1, 700, -2, 0.33, -1, 719, -1, 909]\n"
          ]
        }
      ],
      "source": [
        "def mutate(layer_type, value):\n",
        "    if layer_type == -1:  # LSTM Layer\n",
        "        mutated_value = int(value * random.uniform(0.9, 1.1))\n",
        "    elif layer_type == -2:  # Dropout Layer\n",
        "        mutated_value = round(random.uniform(0.1, 0.5), 2)\n",
        "    elif layer_type == -3:  # Dense Layer\n",
        "        mutated_value = int(value * random.uniform(0.9, 1.1))\n",
        "    else:\n",
        "        raise Exception(f\"mutate ERROR with layer type {layer_type}\")\n",
        "\n",
        "    return mutated_value\n",
        "\n",
        "\n",
        "def mutation(ind):\n",
        "    \"\"\"Applies mutation to an individual.\"\"\"\n",
        "    for i in range(0, len(ind) - 1, 2):  # Iterate over pairs\n",
        "        layer_type = ind[i]\n",
        "        param = ind[i + 1]\n",
        "        mutated_param = mutate(layer_type, param)\n",
        "        # Update the parameter in place\n",
        "        ind[i + 1] = mutated_param\n",
        "\n",
        "    # Return the mutated individual wrapped in a tuple\n",
        "    return ind,\n",
        "\n",
        "\n",
        "ind = [-1, 737, -2, 0.17, -1, 741, -1, 926]\n",
        "\n",
        "print('Before Mutation:', ind)\n",
        "\n",
        "mu_ind, = mutation(ind)\n",
        "print('After Mutation:', mu_ind)\n"
      ]
    },
    {
      "cell_type": "markdown",
      "metadata": {
        "id": "yEQhfR7TpF9R"
      },
      "source": [
        "# Build compile Train"
      ]
    },
    {
      "cell_type": "code",
      "execution_count": 13,
      "metadata": {
        "colab": {
          "base_uri": "https://localhost:8080/"
        },
        "id": "Nw7YEMHEaI6q",
        "outputId": "547c0827-7faf-4bc5-a7c4-6da4f0a3ea12"
      },
      "outputs": [
        {
          "output_type": "stream",
          "name": "stdout",
          "text": [
            "(64, 100, 66) # (batch_size, sequence_length, vocab_size)\n"
          ]
        }
      ],
      "source": [
        "for input_example_batch, target_example_batch in train_dataset.take(1):\n",
        "    example_batch_predictions = model(input_example_batch)\n",
        "    print(example_batch_predictions.shape, \"# (batch_size, sequence_length, vocab_size)\")"
      ]
    },
    {
      "cell_type": "code",
      "execution_count": 14,
      "metadata": {
        "id": "BRcz80Jo2muz",
        "colab": {
          "base_uri": "https://localhost:8080/",
          "height": 1000
        },
        "outputId": "0efa134e-995c-4f61-9942-1e12cafa1f6a"
      },
      "outputs": [
        {
          "output_type": "display_data",
          "data": {
            "text/plain": [
              "<Figure size 1200x800 with 2 Axes>"
            ],
            "image/png": "[encoded data removed]"
          },
          "metadata": {}
        },
        {
          "output_type": "stream",
          "name": "stdout",
          "text": [
            "accuracy\n",
            "\ttraining         \t (min:    0.243, max:    0.243, cur:    0.243)\n",
            "\tvalidation       \t (min:    0.353, max:    0.353, cur:    0.353)\n",
            "Loss\n",
            "\ttraining         \t (min:    2.833, max:    2.833, cur:    2.833)\n",
            "\tvalidation       \t (min:    2.253, max:    2.253, cur:    2.253)\n",
            "Model: \"sequential_1\"\n",
            "_________________________________________________________________\n",
            " Layer (type)                Output Shape              Param #   \n",
            "=================================================================\n",
            " embedding_1 (Embedding)     (None, None, 256)         16896     \n",
            "                                                                 \n",
            " lstm_1 (LSTM)               (None, None, 860)         3842480   \n",
            "                                                                 \n",
            " dropout_3 (Dropout)         (None, None, 860)         0         \n",
            "                                                                 \n",
            " dropout_4 (Dropout)         (None, None, 860)         0         \n",
            "                                                                 \n",
            " dropout_5 (Dropout)         (None, None, 860)         0         \n",
            "                                                                 \n",
            " dense_1 (Dense)             (None, None, 66)          56826     \n",
            "                                                                 \n",
            "=================================================================\n",
            "Total params: 3916202 (14.94 MB)\n",
            "Trainable params: 3916202 (14.94 MB)\n",
            "Non-trainable params: 0 (0.00 Byte)\n",
            "_________________________________________________________________\n",
            "17/17 [==============================] - 1s 29ms/step - loss: 2.2530 - accuracy: 0.3528\n"
          ]
        },
        {
          "output_type": "execute_result",
          "data": {
            "text/plain": [
              "<keras.src.engine.sequential.Sequential at 0x791657ecdae0>"
            ]
          },
          "metadata": {},
          "execution_count": 14
        }
      ],
      "source": [
        "def build_compile_train(ind, epochs=20):\n",
        "    model = build_model(ind)\n",
        "\n",
        "    model.compile(optimizer='adam',\n",
        "                  loss=tf.keras.losses.SparseCategoricalCrossentropy(from_logits=True),\n",
        "                  metrics=['accuracy'])\n",
        "\n",
        "    history = model.fit(train_dataset, epochs=epochs,\n",
        "                        validation_data=test_dataset,\n",
        "                        callbacks=[PlotLossesKeras()],\n",
        "                        verbose=0)\n",
        "\n",
        "    model.summary()\n",
        "    model.evaluate(test_dataset)\n",
        "\n",
        "    return model  # Return the trained model\n",
        "build_compile_train(individual,epochs=1)"
      ]
    },
    {
      "cell_type": "markdown",
      "metadata": {
        "id": "HGzil-B4pOub"
      },
      "source": [
        "# Evolutionary Implementation"
      ]
    },
    {
      "cell_type": "code",
      "execution_count": 15,
      "metadata": {
        "id": "VexslF0Y9nE0"
      },
      "outputs": [],
      "source": [
        "#@title Setting up the Creator\n",
        "creator.create(\"FitnessMin\", base.Fitness, weights=(-1.0,))\n",
        "creator.create(\"Individual\", list, fitness=creator.FitnessMin)"
      ]
    },
    {
      "cell_type": "code",
      "execution_count": 16,
      "metadata": {
        "id": "9S5WqGXup3a5"
      },
      "outputs": [],
      "source": [
        "#@title Create Individual and Population\n",
        "toolbox = base.Toolbox()\n",
        "toolbox.register(\"network\", create_offspring)\n",
        "toolbox.register(\"individual\", tools.initIterate, creator.Individual, toolbox.network)\n",
        "toolbox.register(\"population\", tools.initRepeat, list, toolbox.individual)\n",
        "\n",
        "toolbox.register(\"select\", tools.selTournament, tournsize=5)"
      ]
    },
    {
      "cell_type": "code",
      "execution_count": 17,
      "metadata": {
        "id": "D_exzZ2Vp5Uh"
      },
      "outputs": [],
      "source": [
        "#@title Register Crossover and Mutation\n",
        "toolbox.register(\"mate\", crossover)\n",
        "toolbox.register(\"mutate\", mutation)"
      ]
    },
    {
      "cell_type": "code",
      "execution_count": 18,
      "metadata": {
        "id": "4pmblm7Tp-DK"
      },
      "outputs": [],
      "source": [
        "#@title Register Evaluation\n",
        "def clamp(num, min_value, max_value):\n",
        "   return max(min(num, max_value), min_value)\n",
        "\n",
        "def compile_train(model):\n",
        "  model.compile(optimizer='adam',\n",
        "              loss=tf.keras.losses.SparseCategoricalCrossentropy(from_logits=True),\n",
        "              metrics=['accuracy'])\n",
        "  model.fit(train_dataset, epochs=5,\n",
        "                    verbose=0)\n",
        "  return model\n",
        "\n",
        "def evaluate(individual):\n",
        "  try:\n",
        "    model = build_model(individual)\n",
        "    model = compile_train(model)\n",
        "    print('.', end='')\n",
        "    return 1/clamp(model.evaluate(test_dataset, verbose=0)[1], .00001, 1),\n",
        "  except:\n",
        "    return 1/.5,\n",
        "\n",
        "toolbox.register(\"evaluate\", evaluate)"
      ]
    },
    {
      "cell_type": "code",
      "execution_count": 19,
      "metadata": {
        "id": "ideRS2h0qY3C"
      },
      "outputs": [],
      "source": [
        "#@title Optimize the Weights { run: \"auto\" }\n",
        "MU = 5 #@param {type:\"slider\", min:5, max:1000, step:5}\n",
        "NGEN = 1 #@param {type:\"slider\", min:1, max:100, step:1}\n",
        "RGEN = 1 #@param {type:\"slider\", min:1, max:100, step:1}\n",
        "CXPB = .6\n",
        "MUTPB = .4\n",
        "\n",
        "random.seed(64)\n",
        "\n",
        "pop = toolbox.population(n=MU)\n",
        "hof = tools.HallOfFame(1)\n",
        "stats = tools.Statistics(lambda ind: ind.fitness.values)\n",
        "stats.register(\"avg\", np.mean)\n",
        "stats.register(\"std\", np.std)\n",
        "stats.register(\"min\", np.min)\n",
        "stats.register(\"max\", np.max)"
      ]
    },
    {
      "cell_type": "code",
      "source": [
        "def varAnd(population, toolbox, cxpb, mutpb):\n",
        "\n",
        "    offspring = [toolbox.clone(ind) for ind in population]\n",
        "\n",
        "    # Apply crossover and mutation on the offspring\n",
        "    for i in range(1, len(offspring), 2):\n",
        "        if random.random() < cxpb:\n",
        "            # print('Before crossover:', type(offspring[i - 1]), type(offspring[i]))\n",
        "\n",
        "            offspring[i - 1], offspring[i] = toolbox.mate(offspring[i - 1],\n",
        "                                                          offspring[i])\n",
        "            # print('After crossover:', type(offspring[i - 1]), type(offspring[i]))\n",
        "\n",
        "            del offspring[i - 1].fitness.values, offspring[i].fitness.values\n",
        "\n",
        "    for i in range(len(offspring)):\n",
        "        if random.random() < mutpb:\n",
        "          # print('Before mutation:', type(offspring[i]))\n",
        "          offspring[i], = toolbox.mutate(offspring[i])\n",
        "          # print('After mutation:', type(offspring[i]))\n",
        "\n",
        "          del offspring[i].fitness.values\n",
        "\n",
        "    return offspring\n",
        "\n",
        "\n",
        "def eaSimple(population, toolbox, cxpb, mutpb, ngen, stats=None,\n",
        "             halloffame=None, verbose=__debug__):\n",
        "\n",
        "    logbook = tools.Logbook()\n",
        "    logbook.header = ['gen', 'nevals'] + (stats.fields if stats else [])\n",
        "\n",
        "    # Evaluate the individuals with an invalid fitness\n",
        "    invalid_ind = [ind for ind in population if not ind.fitness.valid]\n",
        "    fitnesses = toolbox.map(toolbox.evaluate, invalid_ind)\n",
        "    for ind, fit in zip(invalid_ind, fitnesses):\n",
        "        ind.fitness.values = fit\n",
        "\n",
        "    if halloffame is not None:\n",
        "        halloffame.update(population)\n",
        "\n",
        "    record = stats.compile(population) if stats else {}\n",
        "    logbook.record(gen=0, nevals=len(invalid_ind), **record)\n",
        "    if verbose:\n",
        "        print(logbook.stream)\n",
        "\n",
        "    # Begin the generational process\n",
        "    for gen in range(1, ngen + 1):\n",
        "\n",
        "        print('Generation',gen)\n",
        "        # Select the next generation individuals\n",
        "        offspring = toolbox.select(population, len(population))\n",
        "\n",
        "        # Vary the pool of individuals\n",
        "        offspring = varAnd(offspring, toolbox, cxpb, mutpb)\n",
        "\n",
        "        # Evaluate the individuals with an invalid fitness\n",
        "        invalid_ind = [ind for ind in offspring if not ind.fitness.valid]\n",
        "        fitnesses = toolbox.map(toolbox.evaluate, invalid_ind)\n",
        "        for ind, fit in zip(invalid_ind, fitnesses):\n",
        "            ind.fitness.values = fit\n",
        "\n",
        "        # Update the hall of fame with the generated individuals\n",
        "        if halloffame is not None:\n",
        "            halloffame.update(offspring)\n",
        "\n",
        "        # Replace the current population by the offspring\n",
        "        population[:] = offspring\n",
        "\n",
        "        # Append the current generation statistics to the logbook\n",
        "        record = stats.compile(population) if stats else {}\n",
        "        logbook.record(gen=gen, nevals=len(invalid_ind), **record)\n",
        "        if verbose:\n",
        "            print(logbook.stream)\n",
        "\n",
        "    return population, logbook"
      ],
      "metadata": {
        "id": "4eLoLoKWqyyC"
      },
      "execution_count": 20,
      "outputs": []
    },
    {
      "cell_type": "code",
      "execution_count": 21,
      "metadata": {
        "colab": {
          "base_uri": "https://localhost:8080/",
          "height": 859
        },
        "id": "qAhxE012qb-0",
        "outputId": "e4403b1e-1abf-4265-db25-f1219572b00c"
      },
      "outputs": [
        {
          "output_type": "display_data",
          "data": {
            "text/plain": [
              "<Figure size 1200x800 with 2 Axes>"
            ],
            "image/png": "[encoded data removed]"
          },
          "metadata": {}
        },
        {
          "output_type": "stream",
          "name": "stdout",
          "text": [
            "fitness\n",
            "\tmin              \t (min:    0.540, max:    0.550, cur:    0.550)\n",
            "\tmax              \t (min:    0.572, max:    0.572, cur:    0.572)\n"
          ]
        }
      ],
      "source": [
        "best = None\n",
        "groups = { \"fitness\" : {\"min\", \"max\"}}\n",
        "plotlosses = PlotLosses(groups=groups)\n",
        "\n",
        "for g in range(NGEN):\n",
        "  pop, logbook = eaSimple(pop, toolbox,\n",
        "            cxpb=CXPB, mutpb=MUTPB, ngen=RGEN, stats=stats, halloffame=hof, verbose=False)\n",
        "  best = hof[0]\n",
        "\n",
        "  print(f\"Gen ({(g+1)*RGEN})\")\n",
        "  for l in logbook:\n",
        "    plotlosses.update({'min': 1/l[\"max\"], 'max': 1/l[\"min\"]})\n",
        "  plotlosses.send()  # draw, update logs, etc"
      ]
    },
    {
      "cell_type": "markdown",
      "source": [
        "# Making the best model and trainig for longer epochs"
      ],
      "metadata": {
        "id": "CxJAXwXWKuHJ"
      }
    },
    {
      "cell_type": "code",
      "source": [
        "print(best)"
      ],
      "metadata": {
        "colab": {
          "base_uri": "https://localhost:8080/"
        },
        "id": "6S7V1gcIKjmu",
        "outputId": "f725c272-b937-4aa2-d472-1f647e8ceef9"
      },
      "execution_count": 22,
      "outputs": [
        {
          "output_type": "stream",
          "name": "stdout",
          "text": [
            "[-1, 851, -1, 981, -2, 0.17, -2, 0.25]\n"
          ]
        }
      ]
    },
    {
      "cell_type": "code",
      "source": [
        "vocab_size = 66\n",
        "embedding_dim = 256\n",
        "\n",
        "class MyModel(tf.keras.Model):\n",
        "    def __init__(self, vocab_size, embedding_dim):\n",
        "        super().__init__(self)\n",
        "        self.embedding = tf.keras.layers.Embedding(vocab_size, embedding_dim)\n",
        "\n",
        "        # Define LSTM layers\n",
        "        self.lstm1 = tf.keras.layers.LSTM(204, return_sequences=True, return_state=True)\n",
        "        self.lstm2 = tf.keras.layers.LSTM(422, return_sequences=True, return_state=True)\n",
        "        self.lstm3 = tf.keras.layers.LSTM(343, return_sequences=True, return_state=True)  # No return_sequences since it's the last LSTM layer\n",
        "\n",
        "        # Define Dropout layers\n",
        "        self.dropout1 = tf.keras.layers.Dropout(0.38)\n",
        "        self.dropout2 = tf.keras.layers.Dropout(0.31)\n",
        "\n",
        "        # Final Dense layer\n",
        "        self.dense = tf.keras.layers.Dense(vocab_size)\n",
        "\n",
        "\n",
        "    def call(self, inputs, states=None, return_state=False, training=False):\n",
        "        x = inputs\n",
        "        x = self.embedding(x, training=training)\n",
        "\n",
        "        if states is None:\n",
        "            states1 = self.lstm1.get_initial_state(x)\n",
        "            states2 = self.lstm2.get_initial_state(x)\n",
        "            states3 = self.lstm3.get_initial_state(x)\n",
        "        else:\n",
        "\n",
        "            # Unpack states into 3 tuples, each for one LSTM layer\n",
        "          states1 = (states[0], states[1])\n",
        "          states2 = (states[2], states[3])\n",
        "          states3 = (states[4], states[5])\n",
        "\n",
        "    # Passing through the first LSTM layer\n",
        "        x, hidden_state1, cell_state1 = self.lstm1(x, initial_state=states1, training=training)\n",
        "        x = self.dropout1(x, training=training)\n",
        "\n",
        "    # Passing through the second LSTM layer\n",
        "        x, hidden_state2, cell_state2 = self.lstm2(x, initial_state=states2, training=training)\n",
        "        x = self.dropout2(x, training=training)\n",
        "\n",
        "    # Passing through the third LSTM layer\n",
        "        x, hidden_state3, cell_state3 = self.lstm3(x, initial_state=states3, training=training)\n",
        "\n",
        "        x = self.dense(x, training=training)\n",
        "\n",
        "        if return_state:\n",
        "            return x, (hidden_state1, cell_state1, hidden_state2, cell_state2, hidden_state3, cell_state3)\n",
        "        else:\n",
        "            return x\n",
        "\n",
        "\n",
        "model = MyModel(\n",
        "    vocab_size=vocab_size,\n",
        "    embedding_dim=embedding_dim)"
      ],
      "metadata": {
        "id": "GBirk71QKs2q"
      },
      "execution_count": 23,
      "outputs": []
    },
    {
      "cell_type": "code",
      "source": [
        "for input_example_batch, target_example_batch in train_dataset.take(1):\n",
        "    example_batch_predictions = model(input_example_batch)\n",
        "    print(example_batch_predictions.shape, \"# (batch_size, sequence_length, vocab_size)\")"
      ],
      "metadata": {
        "colab": {
          "base_uri": "https://localhost:8080/"
        },
        "id": "KBeuWhUmS5f6",
        "outputId": "f7d34cc0-deb6-429c-962b-a2475ac20e89"
      },
      "execution_count": 24,
      "outputs": [
        {
          "output_type": "stream",
          "name": "stdout",
          "text": [
            "(64, 100, 66) # (batch_size, sequence_length, vocab_size)\n"
          ]
        }
      ]
    },
    {
      "cell_type": "code",
      "source": [
        "loss = tf.losses.SparseCategoricalCrossentropy(from_logits=True)"
      ],
      "metadata": {
        "id": "LvGeD2ROTHnf"
      },
      "execution_count": 25,
      "outputs": []
    },
    {
      "cell_type": "code",
      "source": [
        "model.compile(optimizer='adam', loss=loss)"
      ],
      "metadata": {
        "id": "cqrTdMXGTI8J"
      },
      "execution_count": 26,
      "outputs": []
    },
    {
      "cell_type": "code",
      "source": [
        "# Directory where the checkpoints will be saved\n",
        "checkpoint_dir = './training_checkpoints'\n",
        "# Name of the checkpoint files\n",
        "checkpoint_prefix = os.path.join(checkpoint_dir, \"ckpt_{epoch}\")\n",
        "\n",
        "checkpoint_callback = tf.keras.callbacks.ModelCheckpoint(\n",
        "    filepath=checkpoint_prefix,\n",
        "    save_weights_only=True)"
      ],
      "metadata": {
        "id": "7Uh9nN8uTLai"
      },
      "execution_count": 27,
      "outputs": []
    },
    {
      "cell_type": "code",
      "source": [
        "EPOCHS = 30"
      ],
      "metadata": {
        "id": "aKKbGt3KTLXD"
      },
      "execution_count": 36,
      "outputs": []
    },
    {
      "cell_type": "code",
      "source": [
        "def build_compile_train(ind, epochs=100):\n",
        "    model = build_model(ind)\n",
        "\n",
        "    model.compile(optimizer='adam',\n",
        "                  loss=tf.keras.losses.SparseCategoricalCrossentropy(from_logits=True),\n",
        "                  metrics=['accuracy'])\n",
        "\n",
        "    history = model.fit(train_dataset, epochs=epochs,\n",
        "                        validation_data=test_dataset,\n",
        "                        callbacks=[PlotLossesKeras()],\n",
        "                        verbose=0)\n",
        "\n",
        "    model.summary()\n",
        "    model.evaluate(test_dataset)\n",
        "\n",
        "    return model  # Return the trained model\n",
        "# build_compile_train(individual,epochs=10)"
      ],
      "metadata": {
        "id": "mqE2L-1N06uR"
      },
      "execution_count": 37,
      "outputs": []
    },
    {
      "cell_type": "code",
      "source": [
        "history = model.fit(train_dataset, epochs=EPOCHS,\n",
        "                    validation_data=test_dataset,\n",
        "                    callbacks=[PlotLossesKeras()],\n",
        "                        verbose=0)"
      ],
      "metadata": {
        "colab": {
          "base_uri": "https://localhost:8080/",
          "height": 859
        },
        "id": "HVDwIMLZTLUR",
        "outputId": "8d244709-0171-4ed9-f1c3-02dd9501c775"
      },
      "execution_count": 38,
      "outputs": [
        {
          "output_type": "display_data",
          "data": {
            "text/plain": [
              "<Figure size 1200x800 with 2 Axes>"
            ],
            "image/png": "[encoded data removed]"
          },
          "metadata": {}
        },
        {
          "output_type": "stream",
          "name": "stdout",
          "text": [
            "Loss\n",
            "\ttraining         \t (min:    1.338, max:    2.046, cur:    1.338)\n",
            "\tvalidation       \t (min:    1.354, max:    1.941, cur:    1.354)\n"
          ]
        }
      ]
    },
    {
      "cell_type": "code",
      "source": [
        "class OneStep(tf.keras.Model):\n",
        "  def __init__(self, model, chars_from_ids, ids_from_chars, temperature=0.5):\n",
        "    super().__init__()\n",
        "    self.temperature = temperature\n",
        "    self.model = model\n",
        "    self.chars_from_ids = chars_from_ids\n",
        "    self.ids_from_chars = ids_from_chars\n",
        "\n",
        "    # Create a mask to prevent \"[UNK]\" from being generated.\n",
        "    skip_ids = self.ids_from_chars(['[UNK]'])[:, None]\n",
        "    sparse_mask = tf.SparseTensor(\n",
        "        # Put a -inf at each bad index.\n",
        "        values=[-float('inf')]*len(skip_ids),\n",
        "        indices=skip_ids,\n",
        "        # Match the shape to the vocabulary\n",
        "        dense_shape=[len(ids_from_chars.get_vocabulary())])\n",
        "    self.prediction_mask = tf.sparse.to_dense(sparse_mask)\n",
        "\n",
        "\n",
        "  @tf.function\n",
        "  def generate_one_step(self, inputs, states=None):\n",
        "      # Convert strings to token IDs.\n",
        "      input_chars = tf.strings.unicode_split(inputs, 'UTF-8')\n",
        "      input_ids = self.ids_from_chars(input_chars).to_tensor()\n",
        "\n",
        "      # Run the model.\n",
        "      predicted_logits, states = self.model(inputs=input_ids, states=states, return_state=True)\n",
        "\n",
        "      # Unpack the six states\n",
        "\n",
        "      hidden_state1, cell_state1, hidden_state2, cell_state2, hidden_state3, cell_state3 = states\n",
        "\n",
        "      # Only use the last prediction.\n",
        "      predicted_logits = predicted_logits[:, -1, :]\n",
        "      predicted_logits = predicted_logits / self.temperature\n",
        "      # Apply the prediction mask: prevent \"[UNK]\" from being generated.\n",
        "      predicted_logits = predicted_logits + self.prediction_mask\n",
        "\n",
        "      # Sample the output logits to generate token IDs.\n",
        "      predicted_ids = tf.random.categorical(predicted_logits, num_samples=1)\n",
        "      predicted_ids = tf.squeeze(predicted_ids, axis=-1)\n",
        "\n",
        "      # Convert from token ids to characters\n",
        "      predicted_chars = self.chars_from_ids(predicted_ids)\n",
        "\n",
        "      # Repack the states\n",
        "      states = (hidden_state1, cell_state1, hidden_state2, cell_state2, hidden_state3, cell_state3)\n",
        "\n",
        "      # Return the characters and model state.\n",
        "      return predicted_chars, states\n"
      ],
      "metadata": {
        "id": "7fFybrBBTLRn"
      },
      "execution_count": 42,
      "outputs": []
    },
    {
      "cell_type": "code",
      "source": [
        "one_step_model = OneStep(model, chars_from_ids, ids_from_chars)"
      ],
      "metadata": {
        "id": "6jKJ9feuTLPC"
      },
      "execution_count": 43,
      "outputs": []
    },
    {
      "cell_type": "code",
      "source": [
        "start = time.time()\n",
        "states = None\n",
        "next_char = tf.constant(['ROMEO:'])\n",
        "result = [next_char]\n",
        "\n",
        "for n in range(1000):\n",
        "  next_char, states = one_step_model.generate_one_step(next_char, states=states)\n",
        "  result.append(next_char)\n",
        "\n",
        "result = tf.strings.join(result)\n",
        "end = time.time()\n",
        "print(result[0].numpy().decode('utf-8'), '\\n\\n' + '_'*80)\n",
        "print('\\nRun time:', end - start)"
      ],
      "metadata": {
        "colab": {
          "base_uri": "https://localhost:8080/"
        },
        "id": "5kpS3OviTLMK",
        "outputId": "63acbbd9-4e71-40f6-97e2-3dd51262d183"
      },
      "execution_count": 44,
      "outputs": [
        {
          "output_type": "stream",
          "name": "stdout",
          "text": [
            "ROMEO:\n",
            "What do you have a doom of this sense to the war!\n",
            "\n",
            "FRIAR LAURENCE:\n",
            "Why, how far by thy short day is heard thee?\n",
            "\n",
            "BAPTISTA:\n",
            "We will not be gone, the Signior Lancaster,\n",
            "That shall I never hear we have since them bed\n",
            "And there's the prayer and him to the truth, and were them,\n",
            "I am a man of the father to myself\n",
            "To the deed dream of this death of the majesty.\n",
            "\n",
            "GLOUCESTER:\n",
            "I pray you, my lord.\n",
            "\n",
            "Second Servingman:\n",
            "O thoughts that much a contract in a world,\n",
            "There remember him here and the country's power.\n",
            "\n",
            "HERMIONE:\n",
            "What have you have to the house.\n",
            "\n",
            "First Senator:\n",
            "The ground of the death, the great soul of a clain,\n",
            "That we cannot be purpose to the troth,\n",
            "For the child is so face of a grave prove,\n",
            "And there not the soul of the eye of these\n",
            "man so proclaim of some thoughts wear the ready desire.\n",
            "\n",
            "Citizens:\n",
            "My words are we promised.\n",
            "\n",
            "CORIOLANUS:\n",
            "The destruction to the world of your lord.\n",
            "\n",
            "KING RICHARD III:\n",
            "Now the sing hands of mine own sleep,\n",
            "And more than the mark of the subjects in the peopl \n",
            "\n",
            "________________________________________________________________________________\n",
            "\n",
            "Run time: 5.44999885559082\n"
          ]
        }
      ]
    },
    {
      "cell_type": "markdown",
      "source": [
        "# other\n"
      ],
      "metadata": {
        "id": "PbDwLotJTXuq"
      }
    },
    {
      "cell_type": "code",
      "execution_count": 35,
      "metadata": {
        "id": "bXXEkkg5qh_u"
      },
      "outputs": [],
      "source": [
        "# trained_model = build_compile_train(best)"
      ]
    }
  ],
  "metadata": {
    "colab": {
      "provenance": [],
      "gpuType": "T4"
    },
    "kernelspec": {
      "display_name": "Python 3",
      "name": "python3"
    },
    "language_info": {
      "name": "python"
    },
    "accelerator": "GPU"
  },
  "nbformat": 4,
  "nbformat_minor": 0
}